{
 "cells": [
  {
   "cell_type": "code",
   "execution_count": 1,
   "id": "3b0bf448",
   "metadata": {},
   "outputs": [
    {
     "name": "stdout",
     "output_type": "stream",
     "text": [
      "Requirement already satisfied: numpy in /Users/srirammandalika/anaconda3/envs/Production/lib/python3.12/site-packages (2.2.1)\n",
      "Note: you may need to restart the kernel to use updated packages.\n"
     ]
    }
   ],
   "source": [
    "%pip install numpy"
   ]
  },
  {
   "cell_type": "code",
   "execution_count": 1,
   "id": "b7b547d7",
   "metadata": {},
   "outputs": [
    {
     "ename": "KeyboardInterrupt",
     "evalue": "",
     "output_type": "error",
     "traceback": [
      "\u001b[0;31m---------------------------------------------------------------------------\u001b[0m",
      "\u001b[0;31mKeyboardInterrupt\u001b[0m                         Traceback (most recent call last)",
      "Cell \u001b[0;32mIn[1], line 18\u001b[0m\n\u001b[1;32m     16\u001b[0m     label_image \u001b[38;5;241m=\u001b[39m Image\u001b[38;5;241m.\u001b[39mopen(label_file)\n\u001b[1;32m     17\u001b[0m     label_array \u001b[38;5;241m=\u001b[39m np\u001b[38;5;241m.\u001b[39marray(label_image)\n\u001b[0;32m---> 18\u001b[0m     \u001b[43mlabel_stats\u001b[49m\u001b[38;5;241;43m.\u001b[39;49m\u001b[43mupdate\u001b[49m\u001b[43m(\u001b[49m\u001b[43mlabel_array\u001b[49m\u001b[38;5;241;43m.\u001b[39;49m\u001b[43mflatten\u001b[49m\u001b[43m(\u001b[49m\u001b[43m)\u001b[49m\u001b[43m)\u001b[49m\n\u001b[1;32m     20\u001b[0m \u001b[38;5;66;03m# Get unique label names and counts\u001b[39;00m\n\u001b[1;32m     21\u001b[0m labels, counts \u001b[38;5;241m=\u001b[39m \u001b[38;5;28mzip\u001b[39m(\u001b[38;5;241m*\u001b[39mlabel_stats\u001b[38;5;241m.\u001b[39mitems())\n",
      "File \u001b[0;32m~/anaconda3/lib/python3.10/collections/__init__.py:670\u001b[0m, in \u001b[0;36mCounter.update\u001b[0;34m(self, iterable, **kwds)\u001b[0m\n\u001b[1;32m    668\u001b[0m             \u001b[38;5;28msuper\u001b[39m()\u001b[38;5;241m.\u001b[39mupdate(iterable)\n\u001b[1;32m    669\u001b[0m     \u001b[38;5;28;01melse\u001b[39;00m:\n\u001b[0;32m--> 670\u001b[0m         \u001b[43m_count_elements\u001b[49m\u001b[43m(\u001b[49m\u001b[38;5;28;43mself\u001b[39;49m\u001b[43m,\u001b[49m\u001b[43m \u001b[49m\u001b[43miterable\u001b[49m\u001b[43m)\u001b[49m\n\u001b[1;32m    671\u001b[0m \u001b[38;5;28;01mif\u001b[39;00m kwds:\n\u001b[1;32m    672\u001b[0m     \u001b[38;5;28mself\u001b[39m\u001b[38;5;241m.\u001b[39mupdate(kwds)\n",
      "\u001b[0;31mKeyboardInterrupt\u001b[0m: "
     ]
    }
   ],
   "source": [
    "import os\n",
    "import matplotlib.pyplot as plt\n",
    "from collections import Counter\n",
    "from PIL import Image\n",
    "import numpy as np\n",
    "\n",
    "# Define directories\n",
    "train_dir = \"/Users/srirammandalika/Downloads/CamVid/train/\"\n",
    "label_dir = \"/Users/srirammandalika/Downloads/CamVid/train_labels/\"\n",
    "\n",
    "# Read label images and calculate label statistics\n",
    "label_files = [os.path.join(label_dir, file) for file in os.listdir(label_dir) if file.endswith('.png')]\n",
    "label_stats = Counter()\n",
    "\n",
    "for label_file in label_files:\n",
    "    label_image = Image.open(label_file)\n",
    "    label_array = np.array(label_image)\n",
    "    label_stats.update(label_array.flatten())\n",
    "\n",
    "# Get unique label names and counts\n",
    "labels, counts = zip(*label_stats.items())\n",
    "\n",
    "# Plot statistics\n",
    "plt.figure(figsize=(12, 6))\n",
    "plt.bar(labels, counts, tick_label=labels)\n",
    "plt.xlabel('Label Index')\n",
    "plt.ylabel('Frequency')\n",
    "plt.title('Label Frequency in CamVid Dataset')\n",
    "plt.xticks(rotation=45)\n",
    "plt.grid(axis='y', linestyle='--', alpha=0.7)\n",
    "plt.tight_layout()\n",
    "plt.show()\n",
    "\n",
    "# Prepare data for label names and indexes\n",
    "label_stats_dict = {label: count for label, count in zip(labels, counts)}\n",
    "label_stats_dict\n"
   ]
  },
  {
   "cell_type": "code",
   "execution_count": 2,
   "id": "1e1ac0df",
   "metadata": {},
   "outputs": [
    {
     "ename": "KeyboardInterrupt",
     "evalue": "",
     "output_type": "error",
     "traceback": [
      "\u001b[0;31m---------------------------------------------------------------------------\u001b[0m",
      "\u001b[0;31mKeyboardInterrupt\u001b[0m                         Traceback (most recent call last)",
      "Cell \u001b[0;32mIn[2], line 18\u001b[0m\n\u001b[1;32m     16\u001b[0m     label_image \u001b[38;5;241m=\u001b[39m Image\u001b[38;5;241m.\u001b[39mopen(label_file)\n\u001b[1;32m     17\u001b[0m     label_array \u001b[38;5;241m=\u001b[39m np\u001b[38;5;241m.\u001b[39marray(label_image)\n\u001b[0;32m---> 18\u001b[0m     \u001b[43mlabel_stats\u001b[49m\u001b[38;5;241;43m.\u001b[39;49m\u001b[43mupdate\u001b[49m\u001b[43m(\u001b[49m\u001b[43mlabel_array\u001b[49m\u001b[38;5;241;43m.\u001b[39;49m\u001b[43mflatten\u001b[49m\u001b[43m(\u001b[49m\u001b[43m)\u001b[49m\u001b[43m)\u001b[49m\n\u001b[1;32m     20\u001b[0m \u001b[38;5;66;03m# Display label statistics\u001b[39;00m\n\u001b[1;32m     21\u001b[0m label_stats_dict \u001b[38;5;241m=\u001b[39m {label: count \u001b[38;5;28;01mfor\u001b[39;00m label, count \u001b[38;5;129;01min\u001b[39;00m label_stats\u001b[38;5;241m.\u001b[39mitems()}\n",
      "File \u001b[0;32m~/anaconda3/lib/python3.10/collections/__init__.py:670\u001b[0m, in \u001b[0;36mCounter.update\u001b[0;34m(self, iterable, **kwds)\u001b[0m\n\u001b[1;32m    668\u001b[0m             \u001b[38;5;28msuper\u001b[39m()\u001b[38;5;241m.\u001b[39mupdate(iterable)\n\u001b[1;32m    669\u001b[0m     \u001b[38;5;28;01melse\u001b[39;00m:\n\u001b[0;32m--> 670\u001b[0m         \u001b[43m_count_elements\u001b[49m\u001b[43m(\u001b[49m\u001b[38;5;28;43mself\u001b[39;49m\u001b[43m,\u001b[49m\u001b[43m \u001b[49m\u001b[43miterable\u001b[49m\u001b[43m)\u001b[49m\n\u001b[1;32m    671\u001b[0m \u001b[38;5;28;01mif\u001b[39;00m kwds:\n\u001b[1;32m    672\u001b[0m     \u001b[38;5;28mself\u001b[39m\u001b[38;5;241m.\u001b[39mupdate(kwds)\n",
      "\u001b[0;31mKeyboardInterrupt\u001b[0m: "
     ]
    }
   ],
   "source": [
    "# Calculate label statistics without plotting for faster execution\n",
    "import os\n",
    "from collections import Counter\n",
    "from PIL import Image\n",
    "import numpy as np\n",
    "\n",
    "# Define directories\n",
    "train_dir = \"/Users/srirammandalika/Downloads/CamVid/train\"\n",
    "label_dir = \"/Users/srirammandalika/Downloads/CamVid/train_labels\"\n",
    "\n",
    "# Read label images and calculate label statistics\n",
    "label_files = [os.path.join(label_dir, file) for file in os.listdir(label_dir) if file.endswith('.png')]\n",
    "label_stats = Counter()\n",
    "\n",
    "for label_file in label_files:\n",
    "    label_image = Image.open(label_file)\n",
    "    label_array = np.array(label_image)\n",
    "    label_stats.update(label_array.flatten())\n",
    "\n",
    "# Display label statistics\n",
    "label_stats_dict = {label: count for label, count in label_stats.items()}\n",
    "label_stats_dict"
   ]
  },
  {
   "cell_type": "code",
   "execution_count": null,
   "id": "6b438970",
   "metadata": {},
   "outputs": [],
   "source": []
  }
 ],
 "metadata": {
  "kernelspec": {
   "display_name": "base",
   "language": "python",
   "name": "python3"
  },
  "language_info": {
   "codemirror_mode": {
    "name": "ipython",
    "version": 3
   },
   "file_extension": ".py",
   "mimetype": "text/x-python",
   "name": "python",
   "nbconvert_exporter": "python",
   "pygments_lexer": "ipython3",
   "version": "3.10.9"
  }
 },
 "nbformat": 4,
 "nbformat_minor": 5
}
